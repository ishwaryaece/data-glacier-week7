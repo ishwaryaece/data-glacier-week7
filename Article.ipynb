{
 "cells": [
  {
   "cell_type": "markdown",
   "id": "1a8ad8dd",
   "metadata": {},
   "source": [
    "Published at:https://www.kaggle.com/code/ishwaryaarulvel/notebookbae0b85e2b"
   ]
  },
  {
   "cell_type": "markdown",
   "id": "18932314",
   "metadata": {},
   "source": [
    "### Introduction"
   ]
  },
  {
   "cell_type": "markdown",
   "id": "72923e9b",
   "metadata": {},
   "source": [
    "This article will generally overview of the python."
   ]
  },
  {
   "cell_type": "markdown",
   "id": "cf210dce",
   "metadata": {},
   "source": [
    "### What is Python?\n",
    "Python is a popular programming language. It was created by Guido van Rossum, and released in 1991.\n",
    "\n",
    "### It is used for:\n",
    "1. web development (server-side),\n",
    "2. software development,\n",
    "3. mathematics,\n",
    "4. system scripting.\n",
    "### What can Python do?\n",
    "* Python can be used on a server to create web applications.\n",
    "* Python can be used alongside software to create workflows.\n",
    "* Python can connect to database systems. It can also read and modify files.\n",
    "* Python can be used to handle big data and perform complex mathematics.\n",
    "* Python can be used for rapid prototyping, or for production-ready software development.\n",
    "### Why Python?\n",
    "* Python works on different platforms (Windows, Mac, Linux, Raspberry Pi, etc).\n",
    "* Python has a simple syntax similar to the English language.\n",
    "* Python has syntax that allows developers to write programs with fewer lines than some other programming languages.\n",
    "* Python runs on an interpreter system, meaning that code can be executed as soon as it is written. This means that prototyping can be very quick.\n",
    "* Python can be treated in a procedural way, an object-oriented way or a functional way.\n",
    "* The most recent major version of Python is Python 3, which we shall be using in this tutorial. However, Python 2, although not being updated with anything other than security updates, is still quite popular.\n",
    "### Python Syntax compared to other programming languages\n",
    "1. Python was designed for readability, and has some similarities to the English language with influence from mathematics.\n",
    "2. Python uses new lines to complete a command, as opposed to other programming languages which often use semicolons or parentheses.\n",
    "3. Python relies on indentation, using whitespace, to define scope; such as the scope of loops, functions and classes. Other programming languages often use curly-brackets for this purpose."
   ]
  },
  {
   "cell_type": "markdown",
   "id": "f9a37a79",
   "metadata": {},
   "source": [
    "# Example"
   ]
  },
  {
   "cell_type": "code",
   "execution_count": 2,
   "id": "8df9962d",
   "metadata": {},
   "outputs": [
    {
     "name": "stdout",
     "output_type": "stream",
     "text": [
      "Hello, World!\n"
     ]
    }
   ],
   "source": [
    "print(\"Hello, World!\")"
   ]
  },
  {
   "cell_type": "markdown",
   "id": "901e06e8",
   "metadata": {},
   "source": [
    "### Python Variables\n",
    "In Python, variables are created when you assign a value to it:"
   ]
  },
  {
   "cell_type": "markdown",
   "id": "a7f2322f",
   "metadata": {},
   "source": [
    "# Example"
   ]
  },
  {
   "cell_type": "code",
   "execution_count": 3,
   "id": "46669638",
   "metadata": {},
   "outputs": [],
   "source": [
    "x = 5\n",
    "y = \"Hello, World!\""
   ]
  },
  {
   "cell_type": "code",
   "execution_count": 4,
   "id": "faaf0c85",
   "metadata": {},
   "outputs": [
    {
     "name": "stdout",
     "output_type": "stream",
     "text": [
      "5\n"
     ]
    }
   ],
   "source": [
    "print(x)"
   ]
  },
  {
   "cell_type": "markdown",
   "id": "a89f28f9",
   "metadata": {},
   "source": [
    "### Comments\n",
    "Python has commenting capability for the purpose of in-code documentation.\n",
    "\n",
    "Comments start with a #, and Python will render the rest of the line as a comment:\n",
    "\n",
    "### Example"
   ]
  },
  {
   "cell_type": "code",
   "execution_count": 6,
   "id": "a90199b4",
   "metadata": {},
   "outputs": [
    {
     "name": "stdout",
     "output_type": "stream",
     "text": [
      "Hello, World!\n"
     ]
    }
   ],
   "source": [
    "#This is a comment.\n",
    "print(\"Hello, World!\")"
   ]
  },
  {
   "cell_type": "markdown",
   "id": "031bcf22",
   "metadata": {},
   "source": [
    "### Multi Line Comments\n",
    "Python does not really have a syntax for multi line comments.\n",
    "\n",
    "To add a multiline comment you could insert a # for each line:\n",
    "### Example"
   ]
  },
  {
   "cell_type": "code",
   "execution_count": 9,
   "id": "396d9ca1",
   "metadata": {},
   "outputs": [
    {
     "name": "stdout",
     "output_type": "stream",
     "text": [
      "Hello, World!\n"
     ]
    }
   ],
   "source": [
    "#This is a comment\n",
    "#written in\n",
    "#more than just one line\n",
    "print(\"Hello, World!\")"
   ]
  },
  {
   "cell_type": "markdown",
   "id": "60bbfbb7",
   "metadata": {},
   "source": [
    "Or, not quite as intended, you can use a multiline string.\n",
    "\n",
    "Since Python will ignore string literals that are not assigned to a variable, you can add a multiline string (triple quotes) in your code, and place your comment inside it:\n",
    "\n",
    "### Example"
   ]
  },
  {
   "cell_type": "code",
   "execution_count": 10,
   "id": "a56e6991",
   "metadata": {},
   "outputs": [
    {
     "name": "stdout",
     "output_type": "stream",
     "text": [
      "Hello, World!\n"
     ]
    }
   ],
   "source": [
    "\"\"\"\n",
    "This is a comment\n",
    "written in\n",
    "more than just one line\n",
    "\"\"\"\n",
    "print(\"Hello, World!\")"
   ]
  },
  {
   "cell_type": "markdown",
   "id": "05df7040",
   "metadata": {},
   "source": [
    "### Python Data Types\n",
    "### Built-in Data Types\n",
    "In programming, data type is an important concept.\n",
    "\n",
    "Variables can store data of different types, and different types can do different things.\n",
    "\n",
    "Python has the following data types built-in by default, in these categories:\n",
    "\n",
    "1. Text Type:str\n",
    "2. Numeric Types:int, float, complex\n",
    "3. Sequence Types:list, tuple, range\n",
    "4. Mapping Type:dict\n",
    "5. Set Types:set, frozenset\n",
    "6. Boolean Type:bool\n",
    "7. Binary Types:bytes, bytearray, memoryview\n",
    "8. None Type: NoneType\n",
    "* Getting the Data Type\n",
    "You can get the data type of any object by using the type() function:\n",
    "\n",
    "### Example\n",
    "Print the data type of the variable x:"
   ]
  },
  {
   "cell_type": "code",
   "execution_count": 11,
   "id": "5a1124cd",
   "metadata": {},
   "outputs": [
    {
     "name": "stdout",
     "output_type": "stream",
     "text": [
      "<class 'str'>\n"
     ]
    }
   ],
   "source": [
    "x = \"Welcome\"\n",
    "print(type(x))"
   ]
  },
  {
   "cell_type": "markdown",
   "id": "7ddc1720",
   "metadata": {},
   "source": [
    "### Python Numbers\n",
    "### There are three numeric types in Python:\n",
    "\n",
    "1. int\n",
    "2. float\n",
    "3. complex\n",
    "1. Int\n",
    "* Int, or integer, is a whole number, positive or negative, without decimals, of unlimited length.\n",
    "2. Float\n",
    "* Float, or \"floating point number\" is a number, positive or negative, containing one or more decimals.\n",
    "3. Complex\n",
    "* Complex numbers are written with a \"j\" as the imaginary part\n",
    "### Example"
   ]
  },
  {
   "cell_type": "code",
   "execution_count": 12,
   "id": "bea3ff7c",
   "metadata": {},
   "outputs": [],
   "source": [
    "x = 1    # int\n",
    "y = 2.8  # float\n",
    "z = 1j   # complex"
   ]
  },
  {
   "cell_type": "code",
   "execution_count": 13,
   "id": "961ee820",
   "metadata": {},
   "outputs": [
    {
     "name": "stdout",
     "output_type": "stream",
     "text": [
      "<class 'int'>\n",
      "<class 'float'>\n",
      "<class 'complex'>\n"
     ]
    }
   ],
   "source": [
    "print(type(x))\n",
    "print(type(y))\n",
    "print(type(z))\n",
    " "
   ]
  },
  {
   "cell_type": "markdown",
   "id": "489e9962",
   "metadata": {},
   "source": [
    "### Python Strings\n",
    "### Strings\n",
    "Strings in python are surrounded by either single quotation marks, or double quotation marks.\n",
    "Example\n",
    "print(\"Hello\")\n",
    "print('Hello')\n"
   ]
  },
  {
   "cell_type": "code",
   "execution_count": 46,
   "id": "f29bab50",
   "metadata": {},
   "outputs": [
    {
     "name": "stdout",
     "output_type": "stream",
     "text": [
      "Hello\n"
     ]
    }
   ],
   "source": [
    "#Example\n",
    "a = \"Hello\"\n",
    "print(a)"
   ]
  },
  {
   "cell_type": "markdown",
   "id": "414886b3",
   "metadata": {},
   "source": [
    "### String Length\n",
    "To get the length of a string, use the len() function."
   ]
  },
  {
   "cell_type": "code",
   "execution_count": 47,
   "id": "7305e4ed",
   "metadata": {},
   "outputs": [
    {
     "name": "stdout",
     "output_type": "stream",
     "text": [
      "13\n"
     ]
    }
   ],
   "source": [
    "a = \"Hello, World!\"\n",
    "print(len(a))"
   ]
  },
  {
   "cell_type": "code",
   "execution_count": 48,
   "id": "459fe4b4",
   "metadata": {},
   "outputs": [
    {
     "name": "stdout",
     "output_type": "stream",
     "text": [
      "True\n"
     ]
    }
   ],
   "source": [
    "#Check if \"free\" is present in the following text:\n",
    "txt = \"The best things in life are free!\"\n",
    "print(\"free\" in txt)"
   ]
  },
  {
   "cell_type": "code",
   "execution_count": 49,
   "id": "ae0101c3",
   "metadata": {},
   "outputs": [
    {
     "name": "stdout",
     "output_type": "stream",
     "text": [
      "Yes, 'free' is present.\n"
     ]
    }
   ],
   "source": [
    "#Print only if \"free\" is present:\n",
    "txt = \"The best things in life are free!\"\n",
    "if \"free\" in txt:\n",
    "  print(\"Yes, 'free' is present.\")"
   ]
  },
  {
   "cell_type": "code",
   "execution_count": 51,
   "id": "02b8425e",
   "metadata": {},
   "outputs": [
    {
     "name": "stdout",
     "output_type": "stream",
     "text": [
      "True\n"
     ]
    }
   ],
   "source": [
    "#Check if \"expensive\" is NOT present in the following text:\n",
    "\n",
    "txt = \"The best things in life are free!\"\n",
    "print(\"expensive\" not in txt)\n"
   ]
  },
  {
   "cell_type": "code",
   "execution_count": 52,
   "id": "4757644f",
   "metadata": {},
   "outputs": [
    {
     "name": "stdout",
     "output_type": "stream",
     "text": [
      "No, 'expensive' is NOT present.\n"
     ]
    }
   ],
   "source": [
    "#print only if \"expensive\" is NOT present:\n",
    "\n",
    "txt = \"The best things in life are free!\"\n",
    "if \"expensive\" not in txt:\n",
    "  print(\"No, 'expensive' is NOT present.\")"
   ]
  },
  {
   "cell_type": "markdown",
   "id": "289874b6",
   "metadata": {},
   "source": [
    "### Python Booleans\n",
    "Booleans represent one of two values: True or False.\n",
    "\n",
    "### Boolean Values\n",
    "In programming you often need to know if an expression is True or False.\n",
    "\n",
    "You can evaluate any expression in Python, and get one of two answers, True or False."
   ]
  },
  {
   "cell_type": "markdown",
   "id": "aeee8df6",
   "metadata": {},
   "source": [
    "### Python Operators\n",
    "Operators are used to perform operations on variables and values.\n",
    "\n",
    "In the example below, we use the + operator to add together two values:"
   ]
  },
  {
   "cell_type": "code",
   "execution_count": 54,
   "id": "26a7d9e4",
   "metadata": {},
   "outputs": [
    {
     "name": "stdout",
     "output_type": "stream",
     "text": [
      "15\n"
     ]
    }
   ],
   "source": [
    "print(10 + 5)"
   ]
  },
  {
   "cell_type": "markdown",
   "id": "80d2228e",
   "metadata": {},
   "source": [
    "### Python divides the operators in the following groups:\n",
    "\n",
    "* Arithmetic operators\n",
    "* Assignment operators\n",
    "* Comparison operators\n",
    "* Logical operators\n",
    "* Identity operators\n",
    "* Membership operators\n",
    "* Bitwise operators\n"
   ]
  },
  {
   "cell_type": "markdown",
   "id": "f04d3004",
   "metadata": {},
   "source": [
    "## Python lists\n",
    "creating lists, changing list elements, removing elements, and other list operations with the help of examples."
   ]
  },
  {
   "cell_type": "markdown",
   "id": "ad1f335d",
   "metadata": {},
   "source": [
    "#### Create Python Lists\n",
    "In Python, a list is created by placing elements inside square brackets [], separated by commas.\n",
    "​\n",
    "#### list of integers\n",
    "my_list = [1, 2, 3]\n",
    "A list can have any number of items and they may be of different types (integer, float, string, etc.).\n",
    "​\n",
    "#### empty list\n",
    "my_list = []\n",
    "​\n",
    "####  list with mixed data types\n",
    "my_list = [1, \"Hello\", 3.4]\n",
    "\n",
    "A list can also have another list as an item. This is called a nested list.\n",
    "​\n",
    "#### nested list\n",
    "my_list = [\"mouse\", [8, 4, 6], ['a']]\n",
    "\n",
    "Access List Elements\n",
    "\n",
    "There are various ways in which we can access the elements of a list.\n",
    "​\n",
    "List Index\n",
    "We can use the index operator [] to access an item in a list. In Python, indices start at 0. So, a list having 5 elements will have an index from 0 to 4.\n",
    "​\n",
    "Trying to access indexes other than these will raise an IndexError. The index must be an integer. We can't use float or other types, this will result in TypeError.\n",
    "​\n",
    "Nested lists are accessed using nested indexing.\n",
    "​\n",
    "my_list = ['p', 'r', 'o', 'b', 'e']\n",
    "​\n",
    "####  first item\n",
    "print(my_list[0])  # p\n",
    "​\n",
    "#### third item\n",
    "print(my_list[2])  # o\n",
    "​\n",
    "####  fifth item\n",
    "print(my_list[4])  # e\n",
    "​\n",
    "#### Nested List\n",
    "n_list = [\"Happy\", [2, 0, 1, 5]]\n",
    "​\n",
    "#### Nested indexing\n",
    "print(n_list[0][1])\n",
    "\n",
    "print(n_list[1][3])\n",
    "\n",
    "\n",
    "\n",
    "#### Negative indexing in lists\n",
    "my_list = ['p','r','o','b','e']\n",
    "​\n",
    "#### last item\n",
    "print(my_list[-1])\n",
    "​\n",
    "#### fifth last item\n",
    " \n",
    "print(my_list[-5])\n",
    "\n",
    "Run Code\n",
    "\n",
    "Output\n",
    "​\n",
    "e\n",
    "p\n",
    "\n",
    "Python list indexing\n",
    "\n",
    "List indexing in Python\n",
    "\n",
    "List Slicing in Python\n",
    "\n",
    "We can access a range of items in a list by using the slicing operator :.\n",
    "​\n",
    "#### List slicing in Python\n",
    "​\n",
    "my_list = ['p','r','o','g','r','a','m','i','z']\n",
    "​\n",
    "#### elements from index 2 to index 4\n",
    "print(my_list[2:5])\n",
    "​\n",
    "#### elements from index 5 to end\n",
    "print(my_list[5:])\n",
    "​\n",
    "#### elements beginning to end\n",
    "\n",
    "print(my_list[:])\n",
    "\n",
    "Run Code\n",
    "\n",
    "Output\n",
    "​\n",
    "['o', 'g', 'r']\n",
    "['a', 'm', 'i', 'z']\n",
    "['p', 'r', 'o', 'g', 'r', 'a', 'm', 'i', 'z']\n",
    "\n",
    "Note: When we slice lists, the start index is inclusive but the end index is exclusive. For example, my_list[2: 5] returns a list with elements at index 2, 3 and 4, but not 5.\n",
    "​\n",
    "\n",
    "Add/Change List Elements\n",
    "Lists are mutable, meaning their elements can be changed unlike string or tuple.\n",
    "​\n",
    "\n",
    "We can use the assignment operator = to change an item or a range of items.\n",
    "​\n",
    "#### Correcting mistake values in a list\n",
    "odd = [2, 4, 6, 8]\n",
    "​\n",
    "#### change the 1st item    \n",
    "odd[0] = 1            \n",
    "​\n",
    "print(odd)\n",
    "​\n",
    "#### change 2nd to 4th items\n",
    "odd[1:4] = [3, 5, 7]  \n",
    "​\n",
    "\n",
    "print(odd)                   \n",
    "\n",
    "Run Code\n",
    "​\n",
    "\n",
    "Output\n",
    "​\n",
    "[1, 4, 6, 8]\n",
    "[1, 3, 5, 7]\n",
    "\n",
    "We can add one item to a list using the append() method or add several items using the extend() method.\n",
    "​\n",
    "#### Appending and Extending lists in Python\n",
    "\n",
    "odd = [1, 3, 5]\n",
    "​\n",
    "\n",
    "odd.append(7)\n",
    "​\n",
    "\n",
    "print(odd)\n",
    "​\n",
    "\n",
    "odd.extend([9, 11, 13])\n",
    "​\n",
    "\n",
    "print(odd)\n",
    "\n",
    "Run Code\n",
    "\n",
    "Output\n",
    "​\n",
    "[1, 3, 5, 7]\n",
    "[1, 3, 5, 7, 9, 11, 13]\n",
    "\n",
    "We can also use + operator to combine two lists. This is also called concatenation.\n",
    "​\n",
    "\n",
    "The * operator repeats a list for the given number of times.\n",
    "​\n",
    "#### Concatenating and repeating lists\n",
    "odd = [1, 3, 5]\n",
    "​\n",
    "\n",
    "print(odd + [9, 7, 5])\n",
    "​\n",
    "\n",
    "print([\"re\"] * 3)\n",
    "\n",
    "Run Code\n",
    "\n",
    "Output\n",
    "​\n",
    "[1, 3, 5, 9, 7, 5]\n",
    "['re', 're', 're']\n",
    "Furthermore, we can insert one item at a desired location by using the method insert() or insert multiple items by squeezing it into an empty slice of a list.\n",
    "​\n",
    "#### Demonstration of list insert() method\n",
    "odd = [1, 9]\n",
    "\n",
    "odd.insert(1,3)\n",
    "​\n",
    "\n",
    "print(odd)\n",
    "​\n",
    "\n",
    "odd[2:2] = [5, 7]\n",
    "​\n",
    "\n",
    "print(odd)\n",
    "\n",
    "Run Code\n",
    "\n",
    "Output\n",
    "​\n",
    "[1, 3, 9]\n",
    "[1, 3, 5, 7, 9]\n",
    "\n",
    "Delete List Elements\n",
    "\n",
    "We can delete one or more items from a list using the Python del statement. It can even delete the list entirely.\n",
    "​\n",
    "#### Deleting list items\n",
    "my_list = ['p', 'r', 'o', 'b', 'l', 'e', 'm']\n",
    "​\n",
    "#### delete one item\n",
    "del my_list[2]\n",
    "​\n",
    "print(my_list)\n",
    "​\n",
    "#### delete multiple items\n",
    "del my_list[1:5]\n",
    "​\n",
    "print(my_list)\n",
    "​\n",
    "#### delete the entire list\n",
    "del my_list"
   ]
  },
  {
   "cell_type": "markdown",
   "id": "eed3f250",
   "metadata": {},
   "source": [
    "### python Tuples"
   ]
  },
  {
   "cell_type": "markdown",
   "id": "a77b6d26",
   "metadata": {},
   "source": [
    "Creating a Tuple\n",
    "A tuple is created by placing all the items (elements) inside parentheses (), separated by commas. The parentheses are optional, however, it is a good practice to use them.\n",
    "​\n",
    "A tuple can have any number of items and they may be of different types (integer, float, list, string, etc.).\n",
    "​\n",
    "#### Different types of tuples\n",
    "​\n",
    "#### Empty tuple\n",
    "my_tuple = ()\n",
    "\n",
    "print(my_tuple)\n",
    "​\n",
    "#### Tuple having integers\n",
    "\n",
    "my_tuple = (1, 2, 3)\n",
    "\n",
    "print(my_tuple)\n",
    "​\n",
    "#### tuple with mixed datatypes\n",
    "\n",
    "my_tuple = (1, \"Hello\", 3.4)\n",
    "\n",
    "print(my_tuple)\n",
    "​\n",
    "#### nested tuple\n",
    "\n",
    "my_tuple = (\"mouse\", [8, 4, 6], (1, 2, 3))\n",
    "\n",
    "print(my_tuple)\n",
    "\n",
    "Run Code\n",
    "\n",
    "Output\n",
    "​\n",
    "()\n",
    "\n",
    "(1, 2, 3)\n",
    "\n",
    "(1, 'Hello', 3.4)\n",
    "\n",
    "('mouse', [8, 4, 6], (1, 2, 3))\n",
    "\n",
    "\n",
    "A tuple can also be created without using parentheses. This is known as tuple packing.\n",
    "​\n",
    "\n",
    "my_tuple = 3, 4.6, \"dog\"\n",
    "\n",
    "print(my_tuple)\n",
    "​\n",
    "\n",
    "​\n",
    "#### Creating a tuple having one element\n",
    "\n",
    "my_tuple = (\"hello\",)\n",
    "\n",
    "print(type(my_tuple))  # <class 'tuple'>\n",
    "​\n",
    "\n",
    "#### Accessing tuple elements using indexing\n",
    "my_tuple = ('p','e','r','m','i','t')\n",
    "​\n",
    " \n",
    "print(my_tuple[0])   # 'p' \n",
    "\n",
    "print(my_tuple[5])   # 't'\n",
    "\n",
    "#### Index must be an integer\n",
    "\n",
    "#### Negative indexing for accessing tuple elements\n",
    "my_tuple = ('p', 'e', 'r', 'm', 'i', 't')\n",
    "​\n",
    "#### Output: 't'\n",
    "print(my_tuple[-1])\n",
    "​\n",
    "#### Output: 'p'\n",
    "print(my_tuple[-6])\n",
    "Run Code\n",
    "​\n",
    "Output\n",
    "​\n",
    "t\n",
    "p\n",
    "#### Slicing\n",
    "We can access a range of items in a tuple by using the slicing operator colon :.\n",
    "\n",
    "#### Repeat\n",
    "#### Output: ('Repeat', 'Repeat', 'Repeat')\n",
    "print((\"Repeat\",) * 3)\n",
    "\n",
    "Run Code\n",
    "\n",
    "Output\n",
    "​\n",
    "('Repeat', 'Repeat', 'Repeat')\n",
    "\n",
    "#### Deleting a Tuple\n",
    "As discussed above, we cannot change the elements in a tuple. It means that we cannot delete or remove items from a tuple.\n",
    "​\n",
    "Deleting a tuple entirely, however, is possible using the keyword del.\n",
    "​\n",
    "####  Deleting tuples\n",
    "my_tuple = ('p', 'r', 'o', 'g', 'r', 'a', 'm', 'i', 'z')\n",
    "​\n",
    "#### can't delete items\n",
    "#### TypeError: 'tuple' object doesn't support item deletion\n",
    "like del my_tuple[3]\n",
    "​\n",
    "#### Can delete an entire tuple\n",
    "del my_tuple\n",
    "​\n",
    "​"
   ]
  },
  {
   "cell_type": "markdown",
   "id": "1efa1599",
   "metadata": {},
   "source": [
    "### python sets"
   ]
  },
  {
   "cell_type": "markdown",
   "id": "60987459",
   "metadata": {},
   "source": [
    "#### Creating Python Sets\n",
    "A set is created by placing all the items (elements) inside curly braces {}, separated by comma, or by using the built-in set() function.\n",
    "​\n",
    "It can have any number of items and they may be of different types (integer, float, tuple, string etc.). But a set cannot have mutable elements like lists, sets or dictionaries as its elements.\n",
    "​\n",
    "#### Different types of sets in Python\n",
    "#### set of integers\n",
    "my_set = {1, 2, 3}\n",
    "print(my_set)\n",
    "​\n",
    "#### set of mixed datatypes\n",
    "my_set = {1.0, \"Hello\", (1, 2, 3)}\n",
    "​\n",
    "print(my_set)\n",
    "​\n",
    "Output\n",
    "​\n",
    "{1, 2, 3}\n",
    "​\n",
    "{1.0, (1, 2, 3), 'Hello'}\n",
    "​\n",
    "​\n",
    "* set cannot have duplicates\n",
    "​\n",
    "​\n",
    "​\n",
    "​\n",
    "​\n",
    "#### initialize a with {}\n",
    "a = {}\n",
    "​\n",
    "#### check data type of a\n",
    "print(type(a))\n",
    "​\n",
    "#### initialize a with set()\n",
    "a = set()\n",
    "​\n",
    "​\n",
    "* We can add a single element using the add() method, and multiple elements using the update() method. The update() method can take tuples, lists, strings or other sets as its argument. In all cases, duplicates are avoided.\n",
    "​\n",
    "* we can remove and return an item using the pop() method.\n",
    "​\n",
    "* We can also remove all the items from a set using the clear() method.\n",
    "​\n",
    "​\n",
    "​"
   ]
  },
  {
   "cell_type": "markdown",
   "id": "aab0a524",
   "metadata": {},
   "source": [
    "### python Dictionary"
   ]
  },
  {
   "cell_type": "markdown",
   "id": "b5e9ef6d",
   "metadata": {},
   "source": [
    "#### Creating Python Dictionary\n",
    "Creating a dictionary is as simple as placing items inside curly braces {} separated by commas.\n",
    "​\n",
    "An item has a key and a corresponding value that is expressed as a pair (key: value).\n",
    "​\n",
    "While the values can be of any data type and can repeat, keys must be of immutable type (string, number or tuple with immutable elements) and must be unique.\n",
    "​\n",
    "#### empty dictionary\n",
    "my_dict = {}\n",
    "​\n",
    "#### dictionary with integer keys\n",
    "my_dict = {1: 'apple', 2: 'ball'}\n",
    "​\n",
    "#### dictionary with mixed keys\n",
    "my_dict = {'name': 'John', 1: [2, 4, 3]}\n",
    "​\n",
    "#### using dict()\n",
    "my_dict = dict({1:'apple', 2:'ball'})\n",
    "​\n",
    "#### from sequence having each item as a pair\n",
    "my_dict = dict([(1,'apple'), (2,'ball')])\n",
    "\n",
    "* As you can see from above, we can also create a dictionary using the built-in dict() function.\n",
    "​\n",
    "#### Accessing Elements from Dictionary\n",
    "* While indexing is used with other data types to access values, a dictionary uses keys. Keys can be used either inside square brackets [] or with the get() method.\n",
    "* If we use the square brackets [], KeyError is raised in case a key is not found in the dictionary. On the other hand, the get() method returns None if the key is not found.\n",
    "​\n",
    "#### get vs [] for retrieving elements\n",
    "my_dict = {'name': 'Jack', 'age': 26}\n",
    "​\n",
    "#### Output: Jack\n",
    "print(my_dict['name'])\n",
    "​\n",
    "#### Output: 26\n",
    "print(my_dict.get('age'))\n"
   ]
  },
  {
   "cell_type": "markdown",
   "id": "e75221d6",
   "metadata": {},
   "source": [
    "### Python Conditions and If statements\n",
    "Python supports the usual logical conditions from mathematics:\n",
    "\n",
    "* Equals: a == b\n",
    "* Not Equals: a != b\n",
    "* Less than: a < b\n",
    "* Less than or equal to: a <= b\n",
    "* Greater than: a > b\n",
    "* Greater than or equal to: a >= b\n",
    "\n",
    "These conditions can be used in several ways, most commonly in \"if statements\" and loops.\n",
    "\n",
    "An \"if statement\" is written by using the if keyword."
   ]
  },
  {
   "cell_type": "code",
   "execution_count": 39,
   "id": "67f8a098",
   "metadata": {},
   "outputs": [
    {
     "name": "stdout",
     "output_type": "stream",
     "text": [
      "b is greater than a\n"
     ]
    }
   ],
   "source": [
    "#if condition\n",
    "a = 33\n",
    "b = 200\n",
    "if b > a:\n",
    "  print(\"b is greater than a\")"
   ]
  },
  {
   "cell_type": "code",
   "execution_count": 40,
   "id": "14d7a7cb",
   "metadata": {},
   "outputs": [
    {
     "name": "stdout",
     "output_type": "stream",
     "text": [
      "a and b are equal\n"
     ]
    }
   ],
   "source": [
    "#elif condition\n",
    "a = 33\n",
    "b = 33\n",
    "if b > a:\n",
    "  print(\"b is greater than a\")\n",
    "elif a == b:\n",
    "  print(\"a and b are equal\")"
   ]
  },
  {
   "cell_type": "code",
   "execution_count": 41,
   "id": "6dc82030",
   "metadata": {},
   "outputs": [
    {
     "name": "stdout",
     "output_type": "stream",
     "text": [
      "a is greater than b\n"
     ]
    }
   ],
   "source": [
    "#else condition\n",
    "a = 200\n",
    "b = 33\n",
    "if b > a:\n",
    "  print(\"b is greater than a\")\n",
    "elif a == b:\n",
    "  print(\"a and b are equal\")\n",
    "else:\n",
    "  print(\"a is greater than b\")"
   ]
  },
  {
   "cell_type": "code",
   "execution_count": 42,
   "id": "195d1d65",
   "metadata": {},
   "outputs": [
    {
     "name": "stdout",
     "output_type": "stream",
     "text": [
      "Both conditions are True\n"
     ]
    }
   ],
   "source": [
    "#And condition\n",
    "a = 200\n",
    "b = 33\n",
    "c = 500\n",
    "if a > b and c > a:\n",
    "  print(\"Both conditions are True\")"
   ]
  },
  {
   "cell_type": "code",
   "execution_count": 43,
   "id": "822bd393",
   "metadata": {},
   "outputs": [
    {
     "name": "stdout",
     "output_type": "stream",
     "text": [
      "At least one of the conditions is True\n"
     ]
    }
   ],
   "source": [
    "#or condition\n",
    "a = 200\n",
    "b = 33\n",
    "c = 500\n",
    "if a > b or a > c:\n",
    "  print(\"At least one of the conditions is True\")"
   ]
  },
  {
   "cell_type": "code",
   "execution_count": 44,
   "id": "d966c636",
   "metadata": {},
   "outputs": [
    {
     "name": "stdout",
     "output_type": "stream",
     "text": [
      "Above ten,\n",
      "and also above 20!\n"
     ]
    }
   ],
   "source": [
    "#Nested if\n",
    "x = 41\n",
    "\n",
    "if x > 10:\n",
    "  print(\"Above ten,\")\n",
    "  if x > 20:\n",
    "    print(\"and also above 20!\")\n",
    "  else:\n",
    "    print(\"but not above 20.\")"
   ]
  },
  {
   "cell_type": "code",
   "execution_count": 45,
   "id": "fc00216c",
   "metadata": {},
   "outputs": [],
   "source": [
    "#pass statement\n",
    "a = 33\n",
    "b = 200\n",
    "\n",
    "if b > a:\n",
    "  pass"
   ]
  },
  {
   "cell_type": "markdown",
   "id": "c382d706",
   "metadata": {},
   "source": [
    "### Python Loops\n",
    "Python has two primitive loop commands:\n",
    "\n",
    "* while loops\n",
    "* for loops\n",
    "### The while Loop\n",
    "With the while loop we can execute a set of statements as long as a condition is true."
   ]
  },
  {
   "cell_type": "code",
   "execution_count": 31,
   "id": "94ffc4bd",
   "metadata": {},
   "outputs": [
    {
     "name": "stdout",
     "output_type": "stream",
     "text": [
      "1\n",
      "2\n",
      "3\n",
      "4\n",
      "5\n"
     ]
    }
   ],
   "source": [
    "#Print i as long as i is less than 6:\n",
    "i = 1\n",
    "while i < 6:\n",
    "  print(i)\n",
    "  i += 1"
   ]
  },
  {
   "cell_type": "code",
   "execution_count": 32,
   "id": "32c3e028",
   "metadata": {},
   "outputs": [
    {
     "name": "stdout",
     "output_type": "stream",
     "text": [
      "1\n",
      "2\n",
      "3\n"
     ]
    }
   ],
   "source": [
    "#With the break statement we can stop the loop even if the while condition is true:\n",
    "i = 1\n",
    "while i < 6:\n",
    "  print(i)\n",
    "  if i == 3:\n",
    "    break\n",
    "  i += 1"
   ]
  },
  {
   "cell_type": "code",
   "execution_count": null,
   "id": "171d2e1b",
   "metadata": {},
   "outputs": [],
   "source": [
    "#Continue to the next iteration if i is 3:\n",
    "i = 0\n",
    "while i < 6:\n",
    "  i += 1\n",
    "  if i == 3:\n",
    "    continue\n",
    "  print(i)"
   ]
  },
  {
   "cell_type": "code",
   "execution_count": 33,
   "id": "26d4af4b",
   "metadata": {},
   "outputs": [
    {
     "name": "stdout",
     "output_type": "stream",
     "text": [
      "1\n",
      "2\n",
      "3\n",
      "4\n",
      "5\n",
      "i is no longer less than 6\n"
     ]
    }
   ],
   "source": [
    "#With the else statement we can run a block of code once when the condition no longer is true:\n",
    "i = 1\n",
    "while i < 6:\n",
    "  print(i)\n",
    "  i += 1\n",
    "else:\n",
    "  print(\"i is no longer less than 6\")"
   ]
  },
  {
   "cell_type": "markdown",
   "id": "63017ccb",
   "metadata": {},
   "source": [
    "### Python For Loops\n",
    "A for loop is used for iterating over a sequence (that is either a list, a tuple, a dictionary, a set, or a string).\n",
    "\n",
    "This is less like the for keyword in other programming languages, and works more like an iterator method as found in other object-orientated programming languages.\n",
    "\n",
    "With the for loop we can execute a set of statements, once for each item in a list, tuple, set etc."
   ]
  },
  {
   "cell_type": "code",
   "execution_count": 34,
   "id": "d0bfcd5d",
   "metadata": {},
   "outputs": [
    {
     "name": "stdout",
     "output_type": "stream",
     "text": [
      "apple\n",
      "banana\n",
      "cherry\n"
     ]
    }
   ],
   "source": [
    "fruits = [\"apple\", \"banana\", \"cherry\"]\n",
    "for x in fruits:\n",
    "  print(x)"
   ]
  },
  {
   "cell_type": "code",
   "execution_count": 35,
   "id": "01d83567",
   "metadata": {},
   "outputs": [
    {
     "name": "stdout",
     "output_type": "stream",
     "text": [
      "apple\n",
      "banana\n"
     ]
    }
   ],
   "source": [
    "#With the break statement we can stop the loop before it has looped through all the items:\n",
    "fruits = [\"apple\", \"banana\", \"cherry\"]\n",
    "for x in fruits:\n",
    "  print(x)\n",
    "  if x == \"banana\":\n",
    "    break"
   ]
  },
  {
   "cell_type": "code",
   "execution_count": null,
   "id": "4fc2c1a0",
   "metadata": {},
   "outputs": [],
   "source": [
    "#With the continue statement we can stop the current iteration of the loop, and continue with the next:\n",
    "fruits = [\"apple\", \"banana\", \"cherry\"]\n",
    "for x in fruits:\n",
    "  if x == \"banana\":\n",
    "    continue\n",
    "  print(x)"
   ]
  },
  {
   "cell_type": "markdown",
   "id": "1f62ad98",
   "metadata": {},
   "source": [
    "### The range() Function\n",
    "To loop through a set of code a specified number of times, we can use the range() function,\n",
    "The range() function returns a sequence of numbers, starting from 0 by default, and increments by 1 (by default), and ends at a specified number."
   ]
  },
  {
   "cell_type": "code",
   "execution_count": 36,
   "id": "a02943a8",
   "metadata": {},
   "outputs": [
    {
     "name": "stdout",
     "output_type": "stream",
     "text": [
      "0\n",
      "1\n",
      "2\n",
      "3\n",
      "4\n",
      "5\n"
     ]
    }
   ],
   "source": [
    "for x in range(6):\n",
    "  print(x)"
   ]
  },
  {
   "cell_type": "code",
   "execution_count": 37,
   "id": "01268229",
   "metadata": {},
   "outputs": [
    {
     "name": "stdout",
     "output_type": "stream",
     "text": [
      "0\n",
      "1\n",
      "2\n",
      "3\n",
      "4\n",
      "5\n",
      "Finally finished!\n"
     ]
    }
   ],
   "source": [
    "#else \n",
    "for x in range(6):\n",
    "  print(x)\n",
    "else:\n",
    "  print(\"Finally finished!\")"
   ]
  },
  {
   "cell_type": "code",
   "execution_count": 38,
   "id": "750e68a1",
   "metadata": {},
   "outputs": [
    {
     "name": "stdout",
     "output_type": "stream",
     "text": [
      "red apple\n",
      "red banana\n",
      "red cherry\n",
      "big apple\n",
      "big banana\n",
      "big cherry\n",
      "tasty apple\n",
      "tasty banana\n",
      "tasty cherry\n"
     ]
    }
   ],
   "source": [
    "#nested loop\n",
    "adj = [\"red\", \"big\", \"tasty\"]\n",
    "fruits = [\"apple\", \"banana\", \"cherry\"]\n",
    "\n",
    "for x in adj:\n",
    "  for y in fruits:\n",
    "    print(x, y)"
   ]
  },
  {
   "cell_type": "markdown",
   "id": "a1056cdd",
   "metadata": {},
   "source": [
    "### Python Functions\n",
    "A function is a block of code which only runs when it is called.\n",
    "\n",
    "You can pass data, known as parameters, into a function.\n",
    "\n",
    "A function can return data as a result."
   ]
  },
  {
   "cell_type": "code",
   "execution_count": 29,
   "id": "89be6963",
   "metadata": {},
   "outputs": [],
   "source": [
    "def my_function(): # creating a function\n",
    "  print(\"Hello from a function\")"
   ]
  },
  {
   "cell_type": "code",
   "execution_count": 30,
   "id": "6bef88ec",
   "metadata": {},
   "outputs": [
    {
     "name": "stdout",
     "output_type": "stream",
     "text": [
      "Hello from a function\n"
     ]
    }
   ],
   "source": [
    "def my_function():#calling a function\n",
    "  print(\"Hello from a function\")\n",
    "\n",
    "my_function()"
   ]
  },
  {
   "cell_type": "code",
   "execution_count": 23,
   "id": "c9f2cbdd",
   "metadata": {},
   "outputs": [
    {
     "name": "stdout",
     "output_type": "stream",
     "text": [
      "15\n"
     ]
    }
   ],
   "source": [
    "x = lambda a : a + 10 #Add 10 to argument a, and return the result:\n",
    "print(x(5))"
   ]
  },
  {
   "cell_type": "code",
   "execution_count": 24,
   "id": "046e66fc",
   "metadata": {},
   "outputs": [
    {
     "name": "stdout",
     "output_type": "stream",
     "text": [
      "30\n"
     ]
    }
   ],
   "source": [
    "x = lambda a, b : a * b #Multiply argument a with argument b and return the result:\n",
    "print(x(5, 6))"
   ]
  },
  {
   "cell_type": "code",
   "execution_count": 25,
   "id": "c4df7af7",
   "metadata": {},
   "outputs": [
    {
     "name": "stdout",
     "output_type": "stream",
     "text": [
      "13\n"
     ]
    }
   ],
   "source": [
    "x = lambda a, b, c : a + b + c #Summarize argument a, b, and c and return the result:\n",
    "print(x(5, 6, 2))"
   ]
  },
  {
   "cell_type": "markdown",
   "id": "ccbe8f6b",
   "metadata": {},
   "source": [
    "### Why Use Lambda Functions?\n",
    "The power of lambda is better shown when you use them as an anonymous function inside another function.\n",
    "\n",
    "Say you have a function definition that takes one argument, and that argument will be multiplied with an unknown number:"
   ]
  },
  {
   "cell_type": "code",
   "execution_count": 26,
   "id": "e615d0b5",
   "metadata": {},
   "outputs": [
    {
     "name": "stdout",
     "output_type": "stream",
     "text": [
      "22\n"
     ]
    }
   ],
   "source": [
    "def myfunc(n):\n",
    "    return lambda a : a * n\n",
    "\n",
    "mydoubler = myfunc(2)\n",
    "\n",
    "print(mydoubler(11))"
   ]
  },
  {
   "cell_type": "markdown",
   "id": "be2ec11e",
   "metadata": {},
   "source": [
    "### What is an Array?\n",
    "An array is a special variable, which can hold more than one value at a time.\n",
    "\n",
    "If you have a list of items (a list of car names, for example), storing the cars in single variables could look like this:\n",
    "\n",
    "* car1 = \"Ford\"\n",
    "* car2 = \"Volvo\"\n",
    "* car3 = \"BMW\"\n",
    "\n",
    "However, what if you want to loop through the cars and find a specific one? And what if you had not 3 cars, but 300?\n",
    "\n",
    "The solution is an array!\n",
    "\n",
    "An array can hold many values under a single name, and you can access the values by referring to an index number.\n",
    "\n",
    "### Access the Elements of an Array\n",
    "You refer to an array element by referring to the index number"
   ]
  },
  {
   "cell_type": "code",
   "execution_count": 18,
   "id": "5c781814",
   "metadata": {},
   "outputs": [],
   "source": [
    "#Create an array containing car names:\n",
    "\n",
    "cars = [\"Ford\", \"Volvo\", \"BMW\"]"
   ]
  },
  {
   "cell_type": "code",
   "execution_count": 19,
   "id": "8c7157e3",
   "metadata": {},
   "outputs": [],
   "source": [
    "x = cars[0]#Get the value of the first array item:"
   ]
  },
  {
   "cell_type": "code",
   "execution_count": 20,
   "id": "9a30af0d",
   "metadata": {},
   "outputs": [],
   "source": [
    "cars[0] = \"Toyota\"#Modify the value of the first array item:"
   ]
  },
  {
   "cell_type": "code",
   "execution_count": 22,
   "id": "3e0333b3",
   "metadata": {},
   "outputs": [
    {
     "name": "stdout",
     "output_type": "stream",
     "text": [
      "3\n"
     ]
    }
   ],
   "source": [
    "x = len(cars)#Use the len() method to return the length of an array (the number of elements in an array).\n",
    "print(x)"
   ]
  },
  {
   "cell_type": "markdown",
   "id": "34a145a3",
   "metadata": {},
   "source": [
    "### Python Classes and Object\n",
    "* Python is an object oriented programming language.\n",
    "\n",
    "* Almost everything in Python is an object, with its properties and methods.\n",
    "\n",
    "* A Class is like an object constructor, or a \"blueprint\" for creating objects.\n",
    "\n"
   ]
  },
  {
   "cell_type": "code",
   "execution_count": 14,
   "id": "682b264c",
   "metadata": {},
   "outputs": [],
   "source": [
    "class MyClass:#create class\n",
    "  x = 5"
   ]
  },
  {
   "cell_type": "code",
   "execution_count": 15,
   "id": "f154fcef",
   "metadata": {},
   "outputs": [
    {
     "name": "stdout",
     "output_type": "stream",
     "text": [
      "5\n"
     ]
    }
   ],
   "source": [
    "p1 = MyClass()#create object \n",
    "print(p1.x)"
   ]
  },
  {
   "cell_type": "markdown",
   "id": "9345e134",
   "metadata": {},
   "source": [
    "### The __init__() Function\n",
    "The examples above are classes and objects in their simplest form, and are not really useful in real life applications.\n",
    "\n",
    "To understand the meaning of classes we have to understand the built-in __init__() function.\n",
    "\n",
    "All classes have a function called __init__(), which is always executed when the class is being initiated.\n",
    "\n",
    "Use the __init__() function to assign values to object properties, or other operations that are necessary to do when the object is being created:"
   ]
  },
  {
   "cell_type": "code",
   "execution_count": 16,
   "id": "9af149c2",
   "metadata": {},
   "outputs": [
    {
     "name": "stdout",
     "output_type": "stream",
     "text": [
      "John\n",
      "36\n"
     ]
    }
   ],
   "source": [
    "#Create a class named Person, use the __init__() function to assign values for name and age:\n",
    "class Person:\n",
    "  def __init__(self, name, age):\n",
    "    self.name = name\n",
    "    self.age = age\n",
    "\n",
    "p1 = Person(\"John\", 36)\n",
    "\n",
    "print(p1.name)\n",
    "print(p1.age)"
   ]
  },
  {
   "cell_type": "markdown",
   "id": "28e1d905",
   "metadata": {},
   "source": [
    "### Python Modules\n",
    "What is a Module?\n",
    "Consider a module to be the same as a code library.\n",
    "\n",
    "A file containing a set of functions you want to include in your application."
   ]
  },
  {
   "cell_type": "markdown",
   "id": "a484f5e5",
   "metadata": {},
   "source": [
    "### Python Dates\n",
    "A date in Python is not a data type of its own, but we can import a module named datetime to work with dates as date objects."
   ]
  },
  {
   "cell_type": "code",
   "execution_count": 9,
   "id": "81b8313e",
   "metadata": {},
   "outputs": [
    {
     "name": "stdout",
     "output_type": "stream",
     "text": [
      "2022-11-13 21:25:26.057422\n"
     ]
    }
   ],
   "source": [
    "#Import the datetime module and display the current date:\n",
    "import datetime\n",
    "\n",
    "x = datetime.datetime.now()\n",
    "print(x)"
   ]
  },
  {
   "cell_type": "markdown",
   "id": "e3fdff0f",
   "metadata": {},
   "source": [
    "### Date Output\n",
    "When we execute the code from the example above the result will be:\n",
    "\n",
    "2022-11-13 21:24:06.744117\n",
    "The date contains year, month, day, hour, minute, second, and microsecond.\n",
    "\n",
    "The datetime module has many methods to return information about the date object.\n",
    "\n",
    "Here are a few examples, you will learn more about them later in this chapter:"
   ]
  },
  {
   "cell_type": "code",
   "execution_count": 10,
   "id": "6b719ca1",
   "metadata": {},
   "outputs": [
    {
     "name": "stdout",
     "output_type": "stream",
     "text": [
      "2022\n",
      "Sunday\n"
     ]
    }
   ],
   "source": [
    "#Return the year and name of weekday:\n",
    "import datetime\n",
    "\n",
    "x = datetime.datetime.now()\n",
    "\n",
    "print(x.year)\n",
    "print(x.strftime(\"%A\"))"
   ]
  },
  {
   "cell_type": "markdown",
   "id": "1f9b4bd1",
   "metadata": {},
   "source": [
    "### Python Math\n",
    "Python has a set of built-in math functions, including an extensive math module, that allows you to perform mathematical tasks on numbers.\n",
    "\n",
    "### Built-in Math Functions\n",
    "The min() and max() functions can be used to find the lowest or highest value in an iterable:\n",
    "\n"
   ]
  },
  {
   "cell_type": "code",
   "execution_count": 3,
   "id": "aae8cdb3",
   "metadata": {},
   "outputs": [
    {
     "name": "stdout",
     "output_type": "stream",
     "text": [
      "5\n",
      "25\n"
     ]
    }
   ],
   "source": [
    "x = min(5, 10, 25)\n",
    "y = max(5, 10, 25)\n",
    "\n",
    "print(x)\n",
    "print(y)"
   ]
  },
  {
   "cell_type": "code",
   "execution_count": 4,
   "id": "2990c989",
   "metadata": {},
   "outputs": [
    {
     "name": "stdout",
     "output_type": "stream",
     "text": [
      "64\n"
     ]
    }
   ],
   "source": [
    "#The pow(x, y) function returns the value of x to the power of y (xy).\n",
    "x = pow(4, 3)\n",
    "\n",
    "print(x)"
   ]
  },
  {
   "cell_type": "markdown",
   "id": "12c98e87",
   "metadata": {},
   "source": [
    "### The Math Module\n",
    "Python has also a built-in module called math, which extends the list of mathematical functions.\n",
    "\n",
    "To use it, you must import the math module:"
   ]
  },
  {
   "cell_type": "code",
   "execution_count": 5,
   "id": "ba5906c7",
   "metadata": {},
   "outputs": [],
   "source": [
    "import math"
   ]
  },
  {
   "cell_type": "markdown",
   "id": "e3b09b5e",
   "metadata": {},
   "source": [
    "When you have imported the math module, you can start using methods and constants of the module.\n",
    "\n",
    "The math.sqrt() method for example, returns the square root of a number:"
   ]
  },
  {
   "cell_type": "code",
   "execution_count": 6,
   "id": "478a54ff",
   "metadata": {},
   "outputs": [
    {
     "name": "stdout",
     "output_type": "stream",
     "text": [
      "8.0\n"
     ]
    }
   ],
   "source": [
    "import math\n",
    "\n",
    "x = math.sqrt(64)\n",
    "\n",
    "print(x)"
   ]
  },
  {
   "cell_type": "code",
   "execution_count": 7,
   "id": "113059a6",
   "metadata": {},
   "outputs": [
    {
     "name": "stdout",
     "output_type": "stream",
     "text": [
      "2\n",
      "1\n"
     ]
    }
   ],
   "source": [
    "#The math.ceil() method rounds a number upwards to its nearest integer, and the math.floor() method rounds a number downwards to its nearest integer, and returns the result:\n",
    "import math\n",
    "\n",
    "x = math.ceil(1.4)\n",
    "y = math.floor(1.4)\n",
    "\n",
    "print(x) # returns 2\n",
    "print(y) # returns 1"
   ]
  },
  {
   "cell_type": "code",
   "execution_count": 8,
   "id": "21b0f7c4",
   "metadata": {},
   "outputs": [
    {
     "name": "stdout",
     "output_type": "stream",
     "text": [
      "3.141592653589793\n"
     ]
    }
   ],
   "source": [
    "#The math.pi constant, returns the value of PI (3.14...):\n",
    "import math\n",
    "\n",
    "x = math.pi\n",
    "\n",
    "print(x)"
   ]
  },
  {
   "cell_type": "markdown",
   "id": "ff791d78",
   "metadata": {},
   "source": [
    "### What is PIP?\n",
    "* PIP is a package manager for Python packages, or modules if you like."
   ]
  },
  {
   "cell_type": "markdown",
   "id": "84ee18ea",
   "metadata": {},
   "source": [
    "### What is a Package?\n",
    "* A package contains all the files you need for a module.\n"
   ]
  },
  {
   "cell_type": "markdown",
   "id": "930a0377",
   "metadata": {},
   "source": [
    "### Python Try Except\n",
    "The try block lets you test a block of code for errors.\n",
    "\n",
    "The except block lets you handle the error.\n",
    "\n",
    "The else block lets you execute code when there is no error.\n",
    "\n",
    "The finally block lets you execute code, regardless of the result of the try- and except blocks.\n",
    "\n",
    "### Exception Handling\n",
    "When an error occurs, or exception as we call it, Python will normally stop and generate an error message.\n",
    "\n",
    "These exceptions can be handled using the try statement:"
   ]
  },
  {
   "cell_type": "code",
   "execution_count": 1,
   "id": "bb408ecb",
   "metadata": {},
   "outputs": [
    {
     "name": "stdout",
     "output_type": "stream",
     "text": [
      "An exception occurred\n"
     ]
    }
   ],
   "source": [
    "# The try block will generate an exception, because x is not defined:\n",
    "try:\n",
    "  print(x)\n",
    "except:\n",
    "  print(\"An exception occurred\")"
   ]
  },
  {
   "cell_type": "markdown",
   "id": "b0417167",
   "metadata": {},
   "source": [
    "### Python User Input\n",
    "### User Input\n",
    "Python allows for user input.\n",
    "\n",
    "That means we are able to ask the user for input.\n",
    "\n",
    "The method is a bit different in Python 3.6 than Python 2.7.\n",
    "\n",
    "Python 3.6 uses the input() method.\n",
    "\n",
    "Python 2.7 uses the raw_input() method.\n",
    "\n",
    "The following example asks for the username, and when you entered the username, it gets printed on the screen:"
   ]
  },
  {
   "cell_type": "code",
   "execution_count": 22,
   "id": "a6554320",
   "metadata": {},
   "outputs": [
    {
     "name": "stdout",
     "output_type": "stream",
     "text": [
      "Enter username:ishwarya\n",
      "Username is: ishwarya\n"
     ]
    }
   ],
   "source": [
    "#Python 3.6 \n",
    "username = input(\"Enter username:\")\n",
    "print(\"Username is: \" + username)"
   ]
  },
  {
   "cell_type": "markdown",
   "id": "d3bd10cf",
   "metadata": {},
   "source": [
    "### Python String Formatting\n",
    "To make sure a string will display as expected, we can format the result with the format() method.\n",
    "\n",
    "### String format()\n",
    "The format() method allows you to format selected parts of a string.\n",
    "\n",
    "Sometimes there are parts of a text that you do not control, maybe they come from a database, or user input?\n",
    "\n",
    "To control such values, add placeholders (curly brackets {}) in the text, and run the values through the format() method:\n",
    "\n",
    "### Example\n",
    "Add a placeholder where you want to display the price:\n"
   ]
  },
  {
   "cell_type": "code",
   "execution_count": 14,
   "id": "60dfaa9f",
   "metadata": {},
   "outputs": [
    {
     "name": "stdout",
     "output_type": "stream",
     "text": [
      "The price is 49 dollars\n"
     ]
    }
   ],
   "source": [
    "price = 49\n",
    "txt = \"The price is {} dollars\"\n",
    "print(txt.format(price))"
   ]
  },
  {
   "cell_type": "markdown",
   "id": "cd013479",
   "metadata": {},
   "source": [
    "You can add parameters inside the curly brackets to specify how to convert the value:"
   ]
  },
  {
   "cell_type": "markdown",
   "id": "9c89701e",
   "metadata": {},
   "source": [
    "### Example\n",
    "Format the price to be displayed as a number with two decimals:"
   ]
  },
  {
   "cell_type": "code",
   "execution_count": 15,
   "id": "bd30d831",
   "metadata": {},
   "outputs": [],
   "source": [
    "txt = \"The price is {:.2f} dollars\""
   ]
  },
  {
   "cell_type": "code",
   "execution_count": 16,
   "id": "82c4c882",
   "metadata": {},
   "outputs": [
    {
     "name": "stdout",
     "output_type": "stream",
     "text": [
      "The price is 49.00 dollars\n"
     ]
    }
   ],
   "source": [
    "price = 49\n",
    "txt = \"The price is {:.2f} dollars\"\n",
    "print(txt.format(price))\n"
   ]
  }
 ],
 "metadata": {
  "kernelspec": {
   "display_name": "Python 3 (ipykernel)",
   "language": "python",
   "name": "python3"
  },
  "language_info": {
   "codemirror_mode": {
    "name": "ipython",
    "version": 3
   },
   "file_extension": ".py",
   "mimetype": "text/x-python",
   "name": "python",
   "nbconvert_exporter": "python",
   "pygments_lexer": "ipython3",
   "version": "3.9.12"
  }
 },
 "nbformat": 4,
 "nbformat_minor": 5
}
